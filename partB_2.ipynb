{
 "cells": [
  {
   "cell_type": "code",
   "execution_count": 3,
   "metadata": {},
   "outputs": [
    {
     "name": "stderr",
     "output_type": "stream",
     "text": [
      "[nltk_data] Downloading package stopwords to\n",
      "[nltk_data]     C:\\Users\\acnel\\AppData\\Roaming\\nltk_data...\n",
      "[nltk_data]   Package stopwords is already up-to-date!\n",
      "[nltk_data] Downloading package punkt to\n",
      "[nltk_data]     C:\\Users\\acnel\\AppData\\Roaming\\nltk_data...\n",
      "[nltk_data]   Package punkt is already up-to-date!\n"
     ]
    }
   ],
   "source": [
    "import pandas as pd\n",
    "import re\n",
    "import nltk\n",
    "from nltk.corpus import stopwords\n",
    "from sklearn.feature_extraction.text import TfidfVectorizer\n",
    "from sklearn.cluster import KMeans\n",
    "from sklearn.mixture import GaussianMixture\n",
    "from sklearn.preprocessing import LabelEncoder\n",
    "import matplotlib.pyplot as plt\n",
    "import seaborn as sns\n",
    "\n",
    "from datetime import datetime\n",
    "\n",
    "# Load stopwords once\n",
    "nltk.download('stopwords')\n",
    "nltk.download('punkt')\n",
    "english_stopwords = set(stopwords.words('english'))"
   ]
  },
  {
   "cell_type": "code",
   "execution_count": 2,
   "metadata": {},
   "outputs": [],
   "source": [
    "# Read the CSV file\n",
    "data = pd.read_csv(\"D:/Andre/masters/DataAnalysis/additionalAssignment/arxiv2017.csv\",\n",
    "                    delimiter=';',\n",
    "                    nrows=3000)\n",
    "# Add the 'Title' column to the 'Abstract' column and store it in a new column 'combined_text'\n",
    "data['combined_text'] = data['Title'] + ' ' + data['Abstract']"
   ]
  },
  {
   "cell_type": "code",
   "execution_count": 14,
   "metadata": {},
   "outputs": [],
   "source": [
    "def preprocess_data(columnToClean: str, cleanedColumnName: str,\n",
    "                    selected_subjects: list, numClusters) -> pd.DataFrame:\n",
    "    \"\"\"\n",
    "    Filter it by selected subjects, and preprocess the text.\n",
    "    \n",
    "    Args:\n",
    "        selected_subjects (list): List of subject areas to filter the data.\n",
    "        \n",
    "    Returns:\n",
    "        pd.DataFrame: Preprocessed DataFrame.\n",
    "    \"\"\"\n",
    "    # Filter data by selected subjects\n",
    "    filtered_data = data[data['Subject_area'].isin(selected_subjects)]\n",
    "\n",
    "    # Preprocess the text\n",
    "    def preprocess_text(text: str, remove_stopwords: bool = True) -> str:\n",
    "        \"\"\"\n",
    "        Preprocess text by removing links, special characters, numbers, and optionally stopwords.\n",
    "        \n",
    "        Args:\n",
    "            text (str): Input text.\n",
    "            remove_stopwords (bool): Whether to remove stopwords (default True).\n",
    "            \n",
    "        Returns:\n",
    "            str: Preprocessed text.\n",
    "        \"\"\"\n",
    "        # Lemmentization did not improve the results\n",
    "\n",
    "        text = re.sub(r\"http\\S+\", \"\", text)  # Remove links\n",
    "        # text = re.sub(\"[^A-Za-z]+\", \" \", text)  # Remove special characters and numbers\n",
    "        if remove_stopwords:\n",
    "            tokens = nltk.word_tokenize(text)  # Tokenize\n",
    "            tokens = [w for w in tokens if not w.lower() in stopwords.words(\"english\")]  # Remove stopwords\n",
    "            text = \" \".join(tokens)  # Join tokens\n",
    "        text = text.lower().strip()  # Convert to lowercase and remove whitespace\n",
    "        return text\n",
    "\n",
    "    # Apply text preprocessing to the column to clean\n",
    "    filtered_data[cleanedColumnName] = filtered_data[columnToClean].apply(\n",
    "        lambda x: preprocess_text(x, remove_stopwords=True))\n",
    "\n",
    "    # Save the filtered DataFrame to a CSV file\n",
    "    timestamp = datetime.now().strftime(\"%Y-%m-%d_%H-%M-%S\")\n",
    "    filename = f\"./filtered_data/{numClusters}_clusters_{timestamp}.csv\"\n",
    "\n",
    "    filtered_data.to_csv(filename, index=False)\n",
    "\n",
    "    return filtered_data"
   ]
  },
  {
   "cell_type": "code",
   "execution_count": 4,
   "metadata": {},
   "outputs": [
    {
     "name": "stdout",
     "output_type": "stream",
     "text": [
      "39\n"
     ]
    },
    {
     "data": {
      "text/plain": [
       "array(['LO', 'LG', 'NI', 'CG', 'DB', 'CE', 'DM', 'MS', 'CR', 'CL', 'IT',\n",
       "       'DS', 'CC', 'AI', 'GT', 'CV', 'PF', 'FL', 'SI', 'DC', 'HC', 'PL',\n",
       "       'IR', 'OH', 'SE', 'CY', 'RO', 'DL', 'NE', 'GR', 'MA', 'MM', 'AR',\n",
       "       'SY', nan, 'SC', 'ET', 'SD', 'OS'], dtype=object)"
      ]
     },
     "execution_count": 4,
     "metadata": {},
     "output_type": "execute_result"
    }
   ],
   "source": [
    "# what categories are available? and how many?\n",
    "df = data.copy()\n",
    "categories = df['Subject_area'].unique()\n",
    "print(len(categories))\n",
    "categories"
   ]
  },
  {
   "cell_type": "code",
   "execution_count": 9,
   "metadata": {},
   "outputs": [],
   "source": [
    "# List of selected subjects\n",
    "selected_subjects = ['LO', 'LG']\n",
    "columnToClean='combined_text'\n",
    "cleanedColumnName='cleaned'\n",
    "numClusters = len(selected_subjects)"
   ]
  },
  {
   "cell_type": "code",
   "execution_count": 10,
   "metadata": {},
   "outputs": [
    {
     "ename": "NameError",
     "evalue": "name 'preprocess_data' is not defined",
     "output_type": "error",
     "traceback": [
      "\u001b[1;31m---------------------------------------------------------------------------\u001b[0m",
      "\u001b[1;31mNameError\u001b[0m                                 Traceback (most recent call last)",
      "Cell \u001b[1;32mIn[10], line 2\u001b[0m\n\u001b[0;32m      1\u001b[0m \u001b[38;5;66;03m# Preprocess data\u001b[39;00m\n\u001b[1;32m----> 2\u001b[0m filtered_data \u001b[38;5;241m=\u001b[39m \u001b[43mpreprocess_data\u001b[49m(columnToClean\u001b[38;5;241m=\u001b[39mcolumnToClean,\n\u001b[0;32m      3\u001b[0m                                 cleanedColumnName\u001b[38;5;241m=\u001b[39mcleanedColumnName,\n\u001b[0;32m      4\u001b[0m                                 selected_subjects\u001b[38;5;241m=\u001b[39mselected_subjects,\n\u001b[0;32m      5\u001b[0m                                 numClusters\u001b[38;5;241m=\u001b[39mnumClusters)\n",
      "\u001b[1;31mNameError\u001b[0m: name 'preprocess_data' is not defined"
     ]
    }
   ],
   "source": [
    "# Preprocess data\n",
    "filtered_data = preprocess_data(columnToClean=columnToClean,\n",
    "                                cleanedColumnName=cleanedColumnName,\n",
    "                                selected_subjects=selected_subjects,\n",
    "                                numClusters=numClusters)\n"
   ]
  },
  {
   "cell_type": "code",
   "execution_count": 15,
   "metadata": {},
   "outputs": [],
   "source": [
    "filtered_data = pd.read_csv('D:/Andre/masters/DataAnalysis/additionalAssignment/partB/filtered_data/5_clusters_2024-01-02_21-56-37.csv')"
   ]
  },
  {
   "cell_type": "code",
   "execution_count": 16,
   "metadata": {},
   "outputs": [
    {
     "data": {
      "text/plain": [
       "(749, 7)"
      ]
     },
     "execution_count": 16,
     "metadata": {},
     "output_type": "execute_result"
    }
   ],
   "source": [
    "filtered_data.shape"
   ]
  },
  {
   "cell_type": "code",
   "execution_count": 17,
   "metadata": {},
   "outputs": [],
   "source": [
    "label_encoder = LabelEncoder()\n",
    "true_labels = label_encoder.fit_transform(filtered_data['Subject_area'])"
   ]
  },
  {
   "cell_type": "code",
   "execution_count": 18,
   "metadata": {},
   "outputs": [
    {
     "data": {
      "text/plain": [
       "3"
      ]
     },
     "execution_count": 18,
     "metadata": {},
     "output_type": "execute_result"
    }
   ],
   "source": [
    "minOccurrences = int(filtered_data.shape[0]*0.005)\n",
    "minOccurrences"
   ]
  },
  {
   "cell_type": "code",
   "execution_count": 19,
   "metadata": {},
   "outputs": [],
   "source": [
    "\n",
    "# initialize the vectorizer\n",
    "vectorizer = TfidfVectorizer(sublinear_tf=True, min_df=minOccurrences, max_df=0.85)\n",
    "\n",
    "X_tfidf = vectorizer.fit_transform(filtered_data[cleanedColumnName])"
   ]
  },
  {
   "cell_type": "code",
   "execution_count": 20,
   "metadata": {},
   "outputs": [],
   "source": [
    "from sklearn.decomposition import TruncatedSVD\n",
    "from sklearn.pipeline import make_pipeline\n",
    "from sklearn.preprocessing import Normalizer\n",
    "from time import time\n",
    "\n",
    "lsa = make_pipeline(TruncatedSVD(n_components=100), Normalizer(copy=False))\n",
    "t0 = time()\n",
    "X_lsa = lsa.fit_transform(X_tfidf)"
   ]
  },
  {
   "cell_type": "code",
   "execution_count": 21,
   "metadata": {},
   "outputs": [
    {
     "data": {
      "text/plain": [
       "4"
      ]
     },
     "execution_count": 21,
     "metadata": {},
     "output_type": "execute_result"
    }
   ],
   "source": [
    "maxClusters = numClusters*2\n",
    "maxClusters"
   ]
  },
  {
   "cell_type": "code",
   "execution_count": 22,
   "metadata": {},
   "outputs": [],
   "source": [
    "maxClusters = 3"
   ]
  },
  {
   "cell_type": "code",
   "execution_count": 23,
   "metadata": {},
   "outputs": [],
   "source": [
    "from sklearn.metrics import silhouette_score\n",
    "from sklearn.mixture import GaussianMixture\n",
    "import numpy as np\n",
    "import matplotlib.pyplot as plt\n",
    "from datetime import datetime\n",
    "import multiprocessing as mp\n",
    "\n",
    "def evaluate_gmm_cluster(data, n_clusters, run):\n",
    "    \"\"\"\n",
    "    Evaluate a single clustering run using Gaussian Mixture Model.\n",
    "\n",
    "    Args:\n",
    "        data (np.array): The data to be clustered.\n",
    "        n_clusters (int): Number of clusters for Gaussian Mixture.\n",
    "        run (int): Seed for random state in Gaussian Mixture.\n",
    "\n",
    "    Returns:\n",
    "        tuple: silhouette score, AIC score, BIC score for the run.\n",
    "    \"\"\"\n",
    "    gm = GaussianMixture(n_components=n_clusters, max_iter=100, n_init=30, random_state=run)\n",
    "    labels = gm.fit_predict(data)\n",
    "    return silhouette_score(data, labels), gm.aic(data), gm.bic(data)\n",
    "\n",
    "\n",
    "def find_optimal_clusters_silhouette(data, max_clusters=20, n_runs=5):\n",
    "    \"\"\"\n",
    "    Determine the optimal number of clusters using averaged performance metrics over multiple runs.\n",
    "\n",
    "    Args:\n",
    "        data (np.array): The data to be clustered.\n",
    "        max_clusters (int): The maximum number of clusters to try.\n",
    "        n_runs (int): The number of runs for each number of clusters to average the metrics.\n",
    "\n",
    "    Returns:\n",
    "        int: Optimal number of clusters.\n",
    "    \"\"\"\n",
    "    avg_silhouette_scores = []\n",
    "    avg_aic_scores = []\n",
    "    avg_bic_scores = []\n",
    "\n",
    "    # Use a specific multiprocessing context\n",
    "    context = mp.get_context(\"spawn\")\n",
    "    with context.Pool(mp.cpu_count()) as pool:\n",
    "        for n_clusters in range(2, max_clusters + 1):\n",
    "            print(f\"Processing {n_clusters} clusters...\")\n",
    "            tasks = [(data, n_clusters, run) for run in range(n_runs)]\n",
    "            results = pool.starmap(evaluate_gmm_cluster, tasks)\n",
    "\n",
    "            silhouette_scores, aic_scores, bic_scores = zip(*results)\n",
    "\n",
    "            # Averaging the scores over the runs\n",
    "            avg_silhouette_scores.append(np.mean(silhouette_scores))\n",
    "            avg_aic_scores.append(np.mean(aic_scores))\n",
    "            avg_bic_scores.append(np.mean(bic_scores))\n",
    "\n",
    "            print(f\"Clusters: {n_clusters}, Avg Silhouette: {np.mean(silhouette_scores):.3f}, Avg AIC: {np.mean(aic_scores):.3f}, Avg BIC: {np.mean(bic_scores):.3f}\")\n",
    "\n",
    "    # Plotting the results\n",
    "    plt.figure(figsize=(12, 4))\n",
    "    plt.subplot(1, 3, 1)\n",
    "    plt.plot(range(2, max_clusters + 1), avg_silhouette_scores, marker='o')\n",
    "    plt.xlabel('Number of clusters')\n",
    "    plt.ylabel('Average Silhouette Score')\n",
    "    plt.title('Average Silhouette Score vs. Number of Clusters')\n",
    "\n",
    "    plt.subplot(1, 3, 2)\n",
    "    plt.plot(range(2, max_clusters + 1), avg_aic_scores, marker='o')\n",
    "    plt.xlabel('Number of clusters')\n",
    "    plt.ylabel('Average AIC Score')\n",
    "    plt.title('Average AIC vs. Number of Clusters')\n",
    "\n",
    "    plt.subplot(1, 3, 3)\n",
    "    plt.plot(range(2, max_clusters + 1), avg_bic_scores, marker='o')\n",
    "    plt.xlabel('Number of clusters')\n",
    "    plt.ylabel('Average BIC Score')\n",
    "    plt.title('Average BIC vs. Number of Clusters')\n",
    "\n",
    "    plt.tight_layout()\n",
    "\n",
    "    # Saving the plot with a date-time stamp\n",
    "    timestamp = datetime.now().strftime(\"%Y-%m-%d_%H-%M-%S\")\n",
    "    filename = f\"optimalClusters/Silhouette_{timestamp}.png\"\n",
    "    plt.savefig(filename)\n",
    "    plt.show()\n",
    "\n",
    "    # Choosing the optimal number of clusters based on the highest average silhouette score\n",
    "    optimal_clusters = range(2, max_clusters + 1)[np.argmax(avg_silhouette_scores)]\n",
    "    print(f\"Optimal number of clusters based on average Silhouette Score: {optimal_clusters}\")\n",
    "\n",
    "    return optimal_clusters"
   ]
  },
  {
   "cell_type": "code",
   "execution_count": 24,
   "metadata": {},
   "outputs": [],
   "source": [
    "import numpy as np\n",
    "import matplotlib.pyplot as plt\n",
    "from sklearn.mixture import GaussianMixture\n",
    "from datetime import datetime\n",
    "from typing import Tuple, List\n",
    "import multiprocessing as mp\n",
    "\n",
    "def fit_gmm(X: np.array, n_clusters: int) -> float:\n",
    "    \"\"\"\n",
    "    Fit Gaussian Mixture Model and return the log-likelihood.\n",
    "\n",
    "    Args:\n",
    "        X (np.array): The data to be clustered.\n",
    "        n_clusters (int): Number of clusters for Gaussian Mixture.\n",
    "\n",
    "    Returns:\n",
    "        float: Log-likelihood of the model.\n",
    "    \"\"\"\n",
    "    gmm = GaussianMixture(n_components=n_clusters, max_iter=100, n_init=30)\n",
    "    gmm.fit(X)\n",
    "    return gmm.score(X)\n",
    "\n",
    "def worker_function(X: np.array, n_clusters: int) -> float:\n",
    "    \"\"\"\n",
    "    Worker function to be used in multiprocessing pool.\n",
    "\n",
    "    Args:\n",
    "        X (np.array): The data to be clustered.\n",
    "        n_clusters (int): Number of clusters to fit the GMM.\n",
    "\n",
    "    Returns:\n",
    "        float: The log-likelihood of the fitted GMM.\n",
    "    \"\"\"\n",
    "    return fit_gmm(X, n_clusters)\n",
    "\n",
    "def optimal_clusters_gmm_modified_elbow(X: np.array, max_clusters: int, plot: bool = True) -> Tuple[int, List[float], str]:\n",
    "    \"\"\"\n",
    "    Determine the optimal number of clusters using a modified elbow method for Gaussian Mixture Models.\n",
    "\n",
    "    Args:\n",
    "        X (np.array): The data to be clustered.\n",
    "        max_clusters (int): The maximum number of clusters to try.\n",
    "        plot (bool): Whether to plot the log-likelihood graph. Defaults to True.\n",
    "\n",
    "    Returns:\n",
    "        Tuple[int, List[float], str]: Optimal number of clusters, log-likelihoods, and plot file name.\n",
    "    \"\"\"\n",
    "    if max_clusters < 1:\n",
    "        raise ValueError(\"maxClusters must be a positive integer\")\n",
    "\n",
    "    rangeClusters = range(1, max_clusters + 1)\n",
    "\n",
    "    with mp.Pool(mp.cpu_count()) as pool:\n",
    "        # Create a list of arguments for each process\n",
    "        tasks = [(X, n) for n in rangeClusters]\n",
    "        logLikelihoods = pool.starmap(worker_function, tasks)\n",
    "\n",
    "    # Automated Elbow Detection (simple approach)\n",
    "    optimalClusters = max_clusters\n",
    "    if len(logLikelihoods) > 2:\n",
    "        deltas = np.diff(logLikelihoods)\n",
    "        optimalClusters = np.argmax(deltas) + 1\n",
    "\n",
    "    filename = \"\"\n",
    "    if plot:\n",
    "        plt.figure(figsize=(8, 4))\n",
    "        plt.plot(rangeClusters, logLikelihoods, marker='o')\n",
    "        plt.axvline(x=optimalClusters, color='red',\n",
    "                    linestyle='--',\n",
    "                    label=f'Optimal Clusters: {optimalClusters}')\n",
    "        plt.xlabel('Number of Clusters')\n",
    "        plt.ylabel('Log-Likelihood')\n",
    "        plt.title('GMM Log-Likelihood vs. Number of Clusters')\n",
    "        timestamp = datetime.now().strftime(\"%Y-%m-%d_%H-%M-%S\")\n",
    "        filename = f\"optimalClusters/logLikelihood_{timestamp}.png\"\n",
    "        plt.savefig(filename)\n",
    "        plt.show()\n",
    "\n",
    "    return optimalClusters, logLikelihoods, filename"
   ]
  },
  {
   "cell_type": "code",
   "execution_count": 25,
   "metadata": {},
   "outputs": [],
   "source": [
    "import numpy as np\n",
    "import matplotlib.pyplot as plt\n",
    "from sklearn.cluster import KMeans\n",
    "from datetime import datetime\n",
    "from typing import Tuple, List\n",
    "import multiprocessing as mp\n",
    "\n",
    "def fit_kmeans(X: np.ndarray, n_clusters: int) -> float:\n",
    "    \"\"\"\n",
    "    Fit KMeans and return the within-cluster sum of squares (WCSS).\n",
    "\n",
    "    Args:\n",
    "        X (np.ndarray): The data to be clustered.\n",
    "        n_clusters (int): Number of clusters for KMeans.\n",
    "\n",
    "    Returns:\n",
    "        float: WCSS for the model.\n",
    "    \"\"\"\n",
    "    kmeans = KMeans(n_clusters=n_clusters, init='k-means++', max_iter=300, n_init=10, random_state=42)\n",
    "    kmeans.fit(X)\n",
    "    return kmeans.inertia_\n",
    "\n",
    "def find_optimal_clusters_kmeans(X: np.ndarray, max_clusters: int, plot: bool = True) -> Tuple[int, List[float], str]:\n",
    "    \"\"\"\n",
    "    Determine the optimal number of clusters for K-Means using a modified elbow method.\n",
    "\n",
    "    Args:\n",
    "        X (np.ndarray): The data to be clustered.\n",
    "        max_clusters (int): The maximum number of clusters to try.\n",
    "        plot (bool): Whether to plot the WCSS graph. Defaults to True.\n",
    "\n",
    "    Returns:\n",
    "        Tuple[int, List[float], str]: Optimal number of clusters, WCSS values, and plot file name.\n",
    "    \"\"\"\n",
    "    if max_clusters < 1:\n",
    "        raise ValueError(\"maxClusters must be at least 1.\")\n",
    "\n",
    "    rangeClusters = range(1, max_clusters + 1)\n",
    "\n",
    "    with mp.Pool(mp.cpu_count()) as pool:\n",
    "        wcss = pool.map(lambda n: fit_kmeans(X, n), rangeClusters)\n",
    "\n",
    "    # Automated Elbow Detection\n",
    "    optimalClusters = maxClusters\n",
    "    if len(wcss) > 2:\n",
    "        deltas = np.diff(wcss)\n",
    "        optimalClusters = np.argmin(deltas) + 1\n",
    "\n",
    "    filename = \"\"\n",
    "    if plot:\n",
    "        plt.figure(figsize=(8, 4))\n",
    "        plt.plot(rangeClusters, wcss, marker='o')\n",
    "        plt.axvline(x=optimalClusters, color='red', linestyle='--', label=f'Optimal Clusters: {optimalClusters}')\n",
    "        plt.xlabel('Number of Clusters')\n",
    "        plt.ylabel('WCSS')\n",
    "        plt.title('K-Means WCSS vs. Number of Clusters')\n",
    "        plt.legend()\n",
    "        timestamp = datetime.now().strftime(\"%Y-%m-%d_%H-%M-%S\")\n",
    "        filename = f\"KMeans_elbow_method_{timestamp}.png\"\n",
    "        plt.savefig(filename)\n",
    "        plt.show()\n",
    "\n",
    "    return optimalClusters, wcss, filename"
   ]
  },
  {
   "cell_type": "code",
   "execution_count": 26,
   "metadata": {},
   "outputs": [],
   "source": [
    "numClustersSilhouette = find_optimal_clusters_silhouette(X_lsa,\n",
    "                                                      max_clusters=maxClusters,\n",
    "                                                      n_runs=7)\n",
    "numClustersSilhouette"
   ]
  },
  {
   "cell_type": "code",
   "execution_count": 37,
   "metadata": {},
   "outputs": [],
   "source": [
    "optimal_clusters_gmm_modified_elbow(X_lsa, max_clusters=maxClusters)"
   ]
  },
  {
   "cell_type": "code",
   "execution_count": null,
   "metadata": {},
   "outputs": [],
   "source": [
    "find_optimal_clusters_kmeans(X_lsa, max_clusters=maxClusters)"
   ]
  },
  {
   "cell_type": "code",
   "execution_count": null,
   "metadata": {},
   "outputs": [
    {
     "name": "stderr",
     "output_type": "stream",
     "text": [
      "c:\\Users\\Jakne\\Desktop\\Andre\\AdditionalAssignment\\venv\\Lib\\site-packages\\sklearn\\cluster\\_kmeans.py:1416: FutureWarning: The default value of `n_init` will change from 10 to 'auto' in 1.4. Set the value of `n_init` explicitly to suppress the warning\n",
      "  super()._check_params_vs_input(X, default_n_init=10)\n"
     ]
    }
   ],
   "source": [
    "chosenNumberClusters = 10"
   ]
  },
  {
   "cell_type": "code",
   "execution_count": null,
   "metadata": {},
   "outputs": [],
   "source": [
    "gm = GaussianMixture(\n",
    "    n_components=chosenNumberClusters,\n",
    "    max_iter=100,\n",
    "    n_init=30,\n",
    ")\n",
    "gm.fit(X_lsa)\n",
    "\n",
    "probabilities = gm.predict_proba(X_lsa)"
   ]
  },
  {
   "cell_type": "code",
   "execution_count": null,
   "metadata": {},
   "outputs": [],
   "source": [
    "def plot_cluster_heatmap_filtered(probabilities, lower_bound=0.05, upper_bound=0.95):\n",
    "    \"\"\"\n",
    "    Plot a heatmap of document-cluster probabilities, excluding values close to 0 or 1.\n",
    "\n",
    "    Args:\n",
    "        probabilities (np.ndarray): Probabilities of documents belonging to each cluster.\n",
    "        lower_bound (float): Lower bound for filtering probabilities.\n",
    "        upper_bound (float): Upper bound for filtering probabilities.\n",
    "    \"\"\"\n",
    "    # Create a mask for values close to 0 or 1\n",
    "    mask = np.logical_or(probabilities <= lower_bound,\n",
    "                         probabilities >= upper_bound)\n",
    "\n",
    "    plt.figure(figsize=(12, 8))\n",
    "    sns.heatmap(probabilities, mask=mask, cmap='viridis')\n",
    "    plt.title(\"Filtered Heatmap of Document-Cluster Probabilities\")\n",
    "    plt.ylabel(\"Document Index\")\n",
    "    plt.xlabel(\"Cluster Index\")\n",
    "    plt.show()"
   ]
  },
  {
   "cell_type": "code",
   "execution_count": null,
   "metadata": {},
   "outputs": [],
   "source": [
    "# Call the function with the probabilities\n",
    "plot_cluster_heatmap_filtered(probabilities, 0.005, 0.995)"
   ]
  },
  {
   "cell_type": "code",
   "execution_count": null,
   "metadata": {},
   "outputs": [],
   "source": [
    "from sklearn.mixture import GaussianMixture\n",
    "from sklearn import metrics\n",
    "from collections import defaultdict\n",
    "from time import time\n",
    "import numpy as np\n",
    "\n",
    "def fitAndEvaluateGM(gm: GaussianMixture, x: np.ndarray, labels: np.ndarray, name: str = None, nRuns: int = 5) -> tuple[list[dict], list[dict]]:\n",
    "    \"\"\"\n",
    "    Fit the Gaussian Mixture model and evaluate its performance.\n",
    "\n",
    "    Args:\n",
    "        gm (GaussianMixture): The Gaussian Mixture model to be fitted and evaluated.\n",
    "        x (np.ndarray): The data to fit the model to.\n",
    "        labels (np.ndarray): The true labels for the data.\n",
    "        name (str, optional): The name of the estimator. Defaults to the class name of `gm` if None.\n",
    "        nRuns (int, optional): The number of times to run the fitting for different seeds. Defaults to 5.\n",
    "\n",
    "    Raises:\n",
    "        TypeError: If `x` or `labels` is not a numpy ndarray.\n",
    "\n",
    "    Returns:\n",
    "        tuple[list[dict], list[dict]]: Two lists of dictionaries containing evaluation metrics and their standard deviations.\n",
    "\n",
    "    \"\"\"\n",
    "    if not isinstance(x, np.ndarray):\n",
    "        raise TypeError(\"Expected x to be a numpy ndarray\")\n",
    "    if not isinstance(labels, np.ndarray):\n",
    "        raise TypeError(\"Expected labels to be a numpy ndarray\")\n",
    "\n",
    "    evaluations = []\n",
    "    evaluationsStd = []\n",
    "    \n",
    "    name = gm.__class__.__name__ if name is None else name\n",
    "\n",
    "    trainTimes = []\n",
    "    scores = defaultdict(list)\n",
    "    for seed in range(nRuns):\n",
    "        gm.set_params(random_state=seed)\n",
    "        t0 = time()\n",
    "        gm.fit(x)\n",
    "        trainTimes.append(time() - t0)\n",
    "        scores[\"Homogeneity\"].append(metrics.homogeneity_score(labels, gm.predict(x)))\n",
    "        scores[\"Completeness\"].append(metrics.completeness_score(labels, gm.predict(x)))\n",
    "        scores[\"V-measure\"].append(metrics.v_measure_score(labels, gm.predict(x)))\n",
    "        scores[\"Adjusted Rand-Index\"].append(metrics.adjusted_rand_score(labels, gm.predict(x)))\n",
    "        scores[\"Normalized Mutual Info\"].append(metrics.normalized_mutual_info_score(labels, gm.predict(x)))\n",
    "        scores[\"Silhouette Coefficient\"].append(metrics.silhouette_score(x, gm.predict(x), sample_size=2000))\n",
    "    trainTimes = np.asarray(trainTimes)\n",
    "\n",
    "    print(f\"clustering done in {trainTimes.mean():.2f} ± {trainTimes.std():.2f} s \")\n",
    "    evaluation = {\n",
    "        \"estimator\": name,\n",
    "        \"train_time\": trainTimes.mean(),\n",
    "    }\n",
    "    evaluationStd = {\n",
    "        \"estimator\": name,\n",
    "        \"train_time\": trainTimes.std(),\n",
    "    }\n",
    "    for scoreName, scoreValues in scores.items():\n",
    "        meanScore, stdScore = np.mean(scoreValues), np.std(scoreValues)\n",
    "        print(f\"{scoreName}: {meanScore:.3f} ± {stdScore:.3f}\")\n",
    "        evaluation[scoreName] = meanScore\n",
    "        evaluationStd[scoreName] = stdScore\n",
    "    evaluations.append(evaluation)\n",
    "    evaluationsStd.append(evaluationStd)\n",
    "\n",
    "    return evaluations, evaluationsStd"
   ]
  },
  {
   "cell_type": "code",
   "execution_count": null,
   "metadata": {},
   "outputs": [],
   "source": [
    "fitAndEvaluateGM(gm, X_lsa, labels=true_labels,\n",
    "                 name=\"gm\\nwith LSA on tf-idf vectors\")"
   ]
  },
  {
   "cell_type": "code",
   "execution_count": null,
   "metadata": {},
   "outputs": [],
   "source": [
    "from sklearn.decomposition import TruncatedSVD\n",
    "from sklearn.feature_extraction.text import CountVectorizer\n",
    "from sklearn.mixture import GaussianMixture\n",
    "import numpy as np\n",
    "\n",
    "def printGMClusterTerms(lsa: TruncatedSVD, gm: GaussianMixture, vectorizer: CountVectorizer, numClusters: int) -> None:\n",
    "    \"\"\"\n",
    "    Print the top terms in each cluster.\n",
    "\n",
    "    Args:\n",
    "        lsa (TruncatedSVD): The fitted LSA (Latent Semantic Analysis) model.\n",
    "        gm (GaussianMixture): The fitted Gaussian Mixture model.\n",
    "        vectorizer (CountVectorizer): The vectorizer used to fit the LSA model.\n",
    "        numClusters (int): The number of clusters.\n",
    "\n",
    "    Raises:\n",
    "        TypeError: If any of the inputs are not of the expected type.\n",
    "    \"\"\"\n",
    "    if not isinstance(lsa[0], TruncatedSVD):\n",
    "        raise TypeError(\"Expected lsa to be an instance of TruncatedSVD\")\n",
    "    if not isinstance(gm, GaussianMixture):\n",
    "        raise TypeError(\"Expected gm to be an instance of GaussianMixture\")\n",
    "    if not isinstance(vectorizer, CountVectorizer):\n",
    "        raise TypeError(\"Expected vectorizer to be an instance of CountVectorizer\")\n",
    "    if not isinstance(numClusters, int):\n",
    "        raise TypeError(\"Expected numClusters to be an integer\")\n",
    "\n",
    "    originalSpaceCentroids = lsa[0].inverse_transform(gm.means_)\n",
    "    orderCentroids = originalSpaceCentroids.argsort()[:, ::-1]\n",
    "    terms = vectorizer.get_feature_names_out()\n",
    "\n",
    "    for i in range(numClusters):\n",
    "        print(f\"Cluster {i}: \", end=\"\")\n",
    "        for ind in orderCentroids[i, :10]:\n",
    "            print(f\"{terms[ind]} \", end=\"\")\n",
    "        print()"
   ]
  },
  {
   "cell_type": "code",
   "execution_count": null,
   "metadata": {},
   "outputs": [],
   "source": [
    "printGMClusterTerms(lsa, gm, vectorizer, numClusters)"
   ]
  },
  {
   "cell_type": "code",
   "execution_count": 3,
   "metadata": {},
   "outputs": [
    {
     "data": {
      "image/png": "[encoded data removed]",
      "text/plain": [
       "<Figure size 1200x400 with 3 Axes>"
      ]
     },
     "metadata": {},
     "output_type": "display_data"
    },
    {
     "name": "stdout",
     "output_type": "stream",
     "text": [
      "Optimal number of clusters based on average Silhouette Score: 47\n"
     ]
    }
   ],
   "source": [
    "import matplotlib.pyplot as plt\n",
    "import numpy as np\n",
    "from datetime import datetime\n",
    "\n",
    "\n",
    "actualOptimalClusters = 39\n",
    "min_clusters = 29\n",
    "max_clusters = 49\n",
    "avg_silhouette_scores = [0.056,\n",
    "                            0.055,\n",
    "                            0.056,\n",
    "                            0.056,\n",
    "                            0.057,\n",
    "                            0.055,\n",
    "                            0.058,\n",
    "                            0.058,\n",
    "                            0.058,\n",
    "                            0.058,\n",
    "                            0.061,\n",
    "                            0.061,\n",
    "                            0.059,\n",
    "                            0.060,\n",
    "                            0.062,\n",
    "                            0.061,\n",
    "                            0.061,\n",
    "                            0.062,\n",
    "                            0.063,\n",
    "                            0.062,\n",
    "                            0.063,]\n",
    "avg_aic_scores = [\n",
    "    -879669.059,\n",
    "    -895922.468,\n",
    "    -910397.806,\n",
    "    -925726.805,\n",
    "    -947581.123,\n",
    "    -963557.128,\n",
    "    -980005.792,\n",
    "    -995707.131,\n",
    "    -1013790.234,\n",
    "    -1036135.270,\n",
    "    -1055589.021,\n",
    "    -1077554.892,\n",
    "    -1095909.925,\n",
    "    -1118808.565,\n",
    "    -1138096.862,\n",
    "    -1164385.406,\n",
    "    -1185468.085,\n",
    "    -1208075.061,\n",
    "    -1225807.196,\n",
    "    -1247304.675,\n",
    "    -1264642.511,\n",
    "]\n",
    "avg_bic_scores = [\n",
    "    17550.116,\n",
    "    32235.506,\n",
    "    48698.967,\n",
    "    64308.767,\n",
    "    73393.249,\n",
    "    88356.043,\n",
    "    102846.178,\n",
    "    118083.639,\n",
    "    130939.335,\n",
    "    139533.098,\n",
    "    151018.147,\n",
    "    159991.076,\n",
    "    172574.842,\n",
    "    180615.001,\n",
    "    192265.503,\n",
    "    196915.759,\n",
    "    206771.879,\n",
    "    215103.702,\n",
    "    228310.367,\n",
    "    237751.687,\n",
    "    251352.650\n",
    "]\n",
    "\n",
    "# Plotting the results\n",
    "plt.figure(figsize=(12, 4))\n",
    "plt.subplot(1, 3, 1)\n",
    "plt.plot(range(min_clusters, max_clusters + 1),\n",
    "            avg_silhouette_scores, marker='o')\n",
    "if actualOptimalClusters is not None:\n",
    "    plt.axvline(x=actualOptimalClusters, color='blue',\n",
    "                linestyle='--',\n",
    "                label=f'Optimal Clusters: {actualOptimalClusters}')\n",
    "plt.xlabel('Number of clusters')\n",
    "plt.ylabel('Average Silhouette Score')\n",
    "plt.title('Average Silhouette Score vs. Number of Clusters')\n",
    "\n",
    "plt.subplot(1, 3, 2)\n",
    "plt.plot(range(min_clusters, max_clusters + 1), avg_aic_scores, marker='o')\n",
    "plt.xlabel('Number of clusters')\n",
    "plt.ylabel('Average AIC Score')\n",
    "plt.title('Average AIC vs. Number of Clusters')\n",
    "\n",
    "plt.subplot(1, 3, 3)\n",
    "plt.plot(range(min_clusters, max_clusters + 1), avg_bic_scores, marker='o')\n",
    "plt.xlabel('Number of clusters')\n",
    "plt.ylabel('Average BIC Score')\n",
    "plt.title('Average BIC vs. Number of Clusters')\n",
    "\n",
    "plt.tight_layout()\n",
    "\n",
    "# Saving the plot with a date-time stamp\n",
    "timestamp = datetime.now().strftime(\"%Y-%m-%d_%H-%M-%S\")\n",
    "filename = f\"optimalClusters/Silhouette_{timestamp}.png\"\n",
    "plt.savefig(filename)\n",
    "plt.show()\n",
    "\n",
    "# Choosing the optimal number of clusters based on the highest average silhouette score\n",
    "optimal_clusters = range(\n",
    "    min_clusters, max_clusters + 1)[np.argmax(avg_silhouette_scores)]\n",
    "print(\n",
    "    f\"Optimal number of clusters based on average Silhouette Score: {optimal_clusters}\")"
   ]
  }
 ],
 "metadata": {
  "kernelspec": {
   "display_name": "venv",
   "language": "python",
   "name": "python3"
  },
  "language_info": {
   "codemirror_mode": {
    "name": "ipython",
    "version": 3
   },
   "file_extension": ".py",
   "mimetype": "text/x-python",
   "name": "python",
   "nbconvert_exporter": "python",
   "pygments_lexer": "ipython3",
   "version": "3.10.11"
  }
 },
 "nbformat": 4,
 "nbformat_minor": 2
}
