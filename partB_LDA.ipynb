{
 "cells": [
  {
   "cell_type": "code",
   "execution_count": 1,
   "metadata": {},
   "outputs": [
    {
     "name": "stderr",
     "output_type": "stream",
     "text": [
      "[nltk_data] Downloading package punkt to\n",
      "[nltk_data]     C:\\Users\\Jakne\\AppData\\Roaming\\nltk_data...\n",
      "[nltk_data]   Package punkt is already up-to-date!\n",
      "[nltk_data] Downloading package stopwords to\n",
      "[nltk_data]     C:\\Users\\Jakne\\AppData\\Roaming\\nltk_data...\n",
      "[nltk_data]   Package stopwords is already up-to-date!\n"
     ]
    }
   ],
   "source": [
    "\n",
    "# import required sklearn libs\n",
    "from sklearn.datasets import fetch_20newsgroups\n",
    "from sklearn.feature_extraction.text import TfidfVectorizer\n",
    "from sklearn.cluster import KMeans\n",
    "from sklearn.decomposition import PCA\n",
    "\n",
    "# import other required libs\n",
    "import pandas as pd\n",
    "import numpy as np\n",
    "\n",
    "# string manipulation libs\n",
    "import re\n",
    "import string\n",
    "import nltk\n",
    "nltk.download('punkt')\n",
    "nltk.download('stopwords')\n",
    "from nltk.corpus import stopwords\n",
    "\n",
    "# viz libs\n",
    "import matplotlib.pyplot as plt\n",
    "import seaborn as sns\n",
    "\n",
    "from utils import findOptimalClustersKMeans\n",
    "\n",
    "def preprocess_text(text: str, remove_stopwords: bool) -> str:\n",
    "    \"\"\"This function cleans the input text by\n",
    "    - removing links\n",
    "    - removing special chars\n",
    "    - removing numbers\n",
    "    - removing stopwords\n",
    "    - transforming in lower case\n",
    "    - removing excessive whitespaces\n",
    "    Arguments:\n",
    "        text (str): text to clean\n",
    "        remove_stopwords (bool): remove stopwords or not\n",
    "    Returns:\n",
    "        str: cleaned text\n",
    "    \"\"\"\n",
    "    # remove links\n",
    "    text = re.sub(r\"http\\S+\", \"\", text)\n",
    "    # remove numbers and special chars\n",
    "    text = re.sub(\"[^A-Za-z]+\", \" \", text)\n",
    "    # remove stopwords\n",
    "    if remove_stopwords:\n",
    "        # 1. creates tokens\n",
    "        tokens = nltk.word_tokenize(text)\n",
    "        # 2. checks if token is a stopword and removes it\n",
    "        tokens = [w for w in tokens if not w.lower() in stopwords.words(\"english\")]\n",
    "        # 3. joins all tokens again\n",
    "        text = \" \".join(tokens)\n",
    "    # returns cleaned text\n",
    "    text = text.lower().strip()\n",
    "    return text\n",
    "  \n",
    "def get_top_keywords(n_terms):\n",
    "    \"\"\"This function returns the keywords for each centroid of the KMeans\"\"\"\n",
    "    df = pd.DataFrame(X.todense()).groupby(clusters).mean() # groups tf idf vector per cluster\n",
    "    terms = vectorizer.get_feature_names_out() # access to tf idf terms\n",
    "    for i,r in df.iterrows():\n",
    "        print('\\nCluster {}'.format(i))\n",
    "        print(','.join([terms[t] for t in np.argsort(r)[-n_terms:]])) # for each row of the dataframe, find the n terms that have the highest tf idf score\n",
    "            \n",
    "\n",
    "categories = [\n",
    " 'misc.forsale',\n",
    " 'rec.motorcycles',\n",
    " 'rec.sport.baseball',\n",
    " 'sci.crypt',\n",
    " 'sci.electronics',\n",
    " 'sci.med',\n",
    " 'sci.space',\n",
    " 'soc.religion.christian',\n",
    " 'talk.politics.guns',]\n",
    "dataset = fetch_20newsgroups(subset='train',\n",
    "                            categories=categories,\n",
    "                            shuffle=True,\n",
    "                            remove=('headers',\n",
    "                            'footers',\n",
    "                            'quotes'))\n",
    "\n",
    "df = pd.DataFrame(dataset.data,\n",
    "columns=[\"corpus\"])\n",
    "df['cleaned'] = df['corpus'].apply(lambda x: preprocess_text(x, remove_stopwords=True))\n",
    "\n",
    "# initialize vectorizer\n",
    "vectorizer = TfidfVectorizer(sublinear_tf=True, min_df=5, max_df=0.95)\n",
    "# fit_transform applies TF-IDF to clean texts - we save the array of vectors in X\n",
    "X = vectorizer.fit_transform(df['cleaned'])"
   ]
  },
  {
   "cell_type": "code",
   "execution_count": 3,
   "metadata": {},
   "outputs": [
    {
     "name": "stdout",
     "output_type": "stream",
     "text": [
      "Collecting gensim\n",
      "  Downloading gensim-4.3.2-cp311-cp311-win_amd64.whl (24.0 MB)\n",
      "     ---------------------------------------- 24.0/24.0 MB 1.0 MB/s eta 0:00:00\n",
      "Requirement already satisfied: numpy>=1.18.5 in c:\\users\\jakne\\desktop\\andre\\additionalassignment\\venv\\lib\\site-packages (from gensim) (1.26.2)\n",
      "Requirement already satisfied: scipy>=1.7.0 in c:\\users\\jakne\\desktop\\andre\\additionalassignment\\venv\\lib\\site-packages (from gensim) (1.11.4)\n",
      "Requirement already satisfied: smart-open>=1.8.1 in c:\\users\\jakne\\desktop\\andre\\additionalassignment\\venv\\lib\\site-packages (from gensim) (6.4.0)\n",
      "Installing collected packages: gensim\n",
      "Successfully installed gensim-4.3.2\n"
     ]
    },
    {
     "name": "stderr",
     "output_type": "stream",
     "text": [
      "\n",
      "[notice] A new release of pip available: 22.3.1 -> 23.3.2\n",
      "[notice] To update, run: python.exe -m pip install --upgrade pip\n"
     ]
    }
   ],
   "source": [
    "! pip install gensim"
   ]
  },
  {
   "cell_type": "code",
   "execution_count": 9,
   "metadata": {},
   "outputs": [],
   "source": [
    "corpus = df['cleaned']"
   ]
  },
  {
   "cell_type": "code",
   "execution_count": 11,
   "metadata": {},
   "outputs": [],
   "source": [
    "import gensim\n",
    "from typing import List\n",
    "\n",
    "def tokenize_documents(documents: List[str]) -> List[List[str]]:\n",
    "    \"\"\"\n",
    "    Tokenizes each document in the given list of documents.\n",
    "\n",
    "    Args:\n",
    "    documents (List[str]): A list of documents where each document is a string.\n",
    "\n",
    "    Returns:\n",
    "    List[List[str]]: A list of lists, where each inner list is a tokenized document.\n",
    "    \"\"\"\n",
    "    return [gensim.utils.simple_preprocess(doc) for doc in documents]\n",
    "\n",
    "# Assuming 'corpus' is a pandas series or a list of documents\n",
    "tokenized_corpus = tokenize_documents(corpus)\n",
    "\n",
    "# Transform to gensim dictionary\n",
    "dic = gensim.corpora.Dictionary(tokenized_corpus)\n",
    "bow_corpus = [dic.doc2bow(doc) for doc in tokenized_corpus]\n",
    "\n",
    "import pickle\n",
    "pickle.dump(bow_corpus, open('corpus.pkl', 'wb'))\n",
    "dic.save('dictionary.gensim')"
   ]
  },
  {
   "cell_type": "code",
   "execution_count": 12,
   "metadata": {},
   "outputs": [],
   "source": [
    "lda_model = gensim.models.LdaMulticore(bow_corpus,\n",
    "                                   num_topics = 9,\n",
    "                                    id2word = dic,\n",
    "                                      passes = 10,\n",
    "                                      workers = 2)\n",
    "lda_model.save('model4.gensim')"
   ]
  },
  {
   "cell_type": "code",
   "execution_count": 13,
   "metadata": {},
   "outputs": [
    {
     "name": "stdout",
     "output_type": "stream",
     "text": [
      "Topic: 0 \n",
      "Words: 0.008*\"year\" + 0.005*\"would\" + 0.004*\"game\" + 0.004*\"one\" + 0.004*\"last\" + 0.004*\"think\" + 0.004*\"new\" + 0.004*\"good\" + 0.004*\"team\" + 0.004*\"get\"\n",
      "Topic: 1 \n",
      "Words: 0.007*\"would\" + 0.004*\"space\" + 0.004*\"earth\" + 0.003*\"also\" + 0.003*\"data\" + 0.003*\"system\" + 0.003*\"orbit\" + 0.003*\"center\" + 0.002*\"launch\" + 0.002*\"one\"\n",
      "Topic: 2 \n",
      "Words: 0.014*\"key\" + 0.009*\"would\" + 0.008*\"encryption\" + 0.007*\"chip\" + 0.006*\"clipper\" + 0.006*\"government\" + 0.006*\"use\" + 0.005*\"water\" + 0.005*\"keys\" + 0.004*\"one\"\n",
      "Topic: 3 \n",
      "Words: 0.004*\"gun\" + 0.004*\"one\" + 0.003*\"firearms\" + 0.003*\"much\" + 0.003*\"people\" + 0.003*\"well\" + 0.003*\"committee\" + 0.003*\"darren\" + 0.003*\"like\" + 0.003*\"think\"\n",
      "Topic: 4 \n",
      "Words: 0.011*\"file\" + 0.010*\"gun\" + 0.007*\"people\" + 0.006*\"would\" + 0.004*\"control\" + 0.004*\"one\" + 0.004*\"guns\" + 0.004*\"firearms\" + 0.003*\"states\" + 0.003*\"right\"\n",
      "Topic: 5 \n",
      "Words: 0.019*\"space\" + 0.008*\"nasa\" + 0.007*\"db\" + 0.005*\"dos\" + 0.004*\"edu\" + 0.004*\"one\" + 0.003*\"lunar\" + 0.003*\"information\" + 0.003*\"sci\" + 0.003*\"shuttle\"\n",
      "Topic: 6 \n",
      "Words: 0.007*\"internet\" + 0.006*\"privacy\" + 0.005*\"information\" + 0.005*\"mail\" + 0.005*\"use\" + 0.005*\"email\" + 0.005*\"anonymous\" + 0.004*\"may\" + 0.004*\"one\" + 0.004*\"system\"\n",
      "Topic: 7 \n",
      "Words: 0.011*\"god\" + 0.009*\"one\" + 0.009*\"would\" + 0.006*\"people\" + 0.005*\"think\" + 0.005*\"like\" + 0.005*\"jesus\" + 0.004*\"know\" + 0.004*\"time\" + 0.004*\"us\"\n",
      "Topic: 8 \n",
      "Words: 0.006*\"one\" + 0.004*\"get\" + 0.004*\"like\" + 0.004*\"edu\" + 0.004*\"new\" + 0.004*\"use\" + 0.004*\"used\" + 0.003*\"would\" + 0.003*\"time\" + 0.003*\"bike\"\n"
     ]
    }
   ],
   "source": [
    "for idx, topic in lda_model.print_topics(num_words=10):    \n",
    "    print('Topic: {} \\nWords: {}'.format(idx, topic))"
   ]
  }
 ],
 "metadata": {
  "kernelspec": {
   "display_name": "venv",
   "language": "python",
   "name": "python3"
  },
  "language_info": {
   "codemirror_mode": {
    "name": "ipython",
    "version": 3
   },
   "file_extension": ".py",
   "mimetype": "text/x-python",
   "name": "python",
   "nbconvert_exporter": "python",
   "pygments_lexer": "ipython3",
   "version": "3.11.2"
  }
 },
 "nbformat": 4,
 "nbformat_minor": 2
}
